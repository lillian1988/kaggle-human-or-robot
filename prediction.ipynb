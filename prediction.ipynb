{
 "cells": [
  {
   "cell_type": "code",
   "execution_count": 1,
   "metadata": {
    "collapsed": false
   },
   "outputs": [],
   "source": [
    "import matplotlib\n",
    "#matplotlib.style.use('ggplot')\n",
    "import matplotlib.pyplot as plt\n",
    "\n",
    "import pandas as pd\n",
    "from pandas_summary import DataFrameSummary\n",
    "\n",
    "from prediction.loader import read_bids_data\n",
    "from prediction.loader import read_bidders_data\n",
    "from prediction.loader import read_testset\n",
    "\n",
    "from prediction.stats import get_stats\n",
    "from prediction.stats import get_feature_target\n",
    "\n",
    "from prediction.algo import get_predictions\n",
    "from prediction.algo import get_regressor\n",
    "from prediction.algo import get_metrics\n",
    "from prediction.algo import get_feature_importance\n",
    "from prediction.algo import get_confusion_matrix"
   ]
  },
  {
   "cell_type": "markdown",
   "metadata": {},
   "source": [
    "# Data loading"
   ]
  },
  {
   "cell_type": "code",
   "execution_count": 2,
   "metadata": {
    "collapsed": true
   },
   "outputs": [],
   "source": [
    "bids = read_bids_data()"
   ]
  },
  {
   "cell_type": "code",
   "execution_count": 3,
   "metadata": {
    "collapsed": false
   },
   "outputs": [],
   "source": [
    "bidders = read_bidders_data()"
   ]
  },
  {
   "cell_type": "markdown",
   "metadata": {},
   "source": [
    "# Features adding"
   ]
  },
  {
   "cell_type": "code",
   "execution_count": 4,
   "metadata": {
    "collapsed": false
   },
   "outputs": [
    {
     "name": "stderr",
     "output_type": "stream",
     "text": [
      "/home/till/code/kaggle-human-or-robot/venv/local/lib/python2.7/site-packages/pandas/core/groupby.py:2919: FutureWarning: numpy not_equal will not check object identity in the future. The comparison did not return the same result as suggested by the identity (`is`)) and will change.\n",
      "  inc = np.r_[1, val[1:] != val[:-1]]\n",
      "/home/till/code/kaggle-human-or-robot/venv/local/lib/python2.7/site-packages/numpy/core/_methods.py:82: RuntimeWarning: Degrees of freedom <= 0 for slice\n",
      "  warnings.warn(\"Degrees of freedom <= 0 for slice\", RuntimeWarning)\n"
     ]
    },
    {
     "data": {
      "text/html": [
       "<div>\n",
       "<table border=\"1\" class=\"dataframe\">\n",
       "  <thead>\n",
       "    <tr style=\"text-align: right;\">\n",
       "      <th></th>\n",
       "      <th>mean_nb_url</th>\n",
       "      <th>nb_distinct_merchandise</th>\n",
       "      <th>elapsed_time_std</th>\n",
       "      <th>elapsed_time_max</th>\n",
       "      <th>time_std</th>\n",
       "      <th>nb_distinct_url</th>\n",
       "      <th>time_range</th>\n",
       "      <th>ubiquity</th>\n",
       "      <th>mean_nb_bid_id</th>\n",
       "      <th>nb_distinct_auction</th>\n",
       "      <th>nb_distinct_ip</th>\n",
       "      <th>nb_bids</th>\n",
       "      <th>elapsed_time_min</th>\n",
       "      <th>mean_nb_ip</th>\n",
       "      <th>mean_nb_merchandise</th>\n",
       "      <th>mean_nb_country</th>\n",
       "      <th>nb_distinct_device</th>\n",
       "    </tr>\n",
       "  </thead>\n",
       "  <tbody>\n",
       "    <tr>\n",
       "      <th>counts</th>\n",
       "      <td>6614</td>\n",
       "      <td>6614</td>\n",
       "      <td>6614</td>\n",
       "      <td>6614</td>\n",
       "      <td>6614</td>\n",
       "      <td>6614</td>\n",
       "      <td>6614</td>\n",
       "      <td>6614</td>\n",
       "      <td>6614</td>\n",
       "      <td>6614</td>\n",
       "      <td>6614</td>\n",
       "      <td>6614</td>\n",
       "      <td>6614</td>\n",
       "      <td>6614</td>\n",
       "      <td>6614</td>\n",
       "      <td>6614</td>\n",
       "      <td>6614</td>\n",
       "    </tr>\n",
       "    <tr>\n",
       "      <th>uniques</th>\n",
       "      <td>2146</td>\n",
       "      <td>2</td>\n",
       "      <td>5036</td>\n",
       "      <td>4134</td>\n",
       "      <td>5548</td>\n",
       "      <td>827</td>\n",
       "      <td>5314</td>\n",
       "      <td>304</td>\n",
       "      <td>2598</td>\n",
       "      <td>519</td>\n",
       "      <td>1169</td>\n",
       "      <td>1388</td>\n",
       "      <td>3929</td>\n",
       "      <td>2393</td>\n",
       "      <td>2</td>\n",
       "      <td>1379</td>\n",
       "      <td>605</td>\n",
       "    </tr>\n",
       "    <tr>\n",
       "      <th>missing</th>\n",
       "      <td>0</td>\n",
       "      <td>0</td>\n",
       "      <td>0</td>\n",
       "      <td>0</td>\n",
       "      <td>0</td>\n",
       "      <td>0</td>\n",
       "      <td>0</td>\n",
       "      <td>0</td>\n",
       "      <td>0</td>\n",
       "      <td>0</td>\n",
       "      <td>0</td>\n",
       "      <td>0</td>\n",
       "      <td>0</td>\n",
       "      <td>0</td>\n",
       "      <td>0</td>\n",
       "      <td>0</td>\n",
       "      <td>0</td>\n",
       "    </tr>\n",
       "    <tr>\n",
       "      <th>missing_perc</th>\n",
       "      <td>0%</td>\n",
       "      <td>0%</td>\n",
       "      <td>0%</td>\n",
       "      <td>0%</td>\n",
       "      <td>0%</td>\n",
       "      <td>0%</td>\n",
       "      <td>0%</td>\n",
       "      <td>0%</td>\n",
       "      <td>0%</td>\n",
       "      <td>0%</td>\n",
       "      <td>0%</td>\n",
       "      <td>0%</td>\n",
       "      <td>0%</td>\n",
       "      <td>0%</td>\n",
       "      <td>0%</td>\n",
       "      <td>0%</td>\n",
       "      <td>0%</td>\n",
       "    </tr>\n",
       "    <tr>\n",
       "      <th>types</th>\n",
       "      <td>numeric</td>\n",
       "      <td>bool</td>\n",
       "      <td>numeric</td>\n",
       "      <td>numeric</td>\n",
       "      <td>numeric</td>\n",
       "      <td>numeric</td>\n",
       "      <td>numeric</td>\n",
       "      <td>numeric</td>\n",
       "      <td>numeric</td>\n",
       "      <td>numeric</td>\n",
       "      <td>numeric</td>\n",
       "      <td>numeric</td>\n",
       "      <td>numeric</td>\n",
       "      <td>numeric</td>\n",
       "      <td>bool</td>\n",
       "      <td>numeric</td>\n",
       "      <td>numeric</td>\n",
       "    </tr>\n",
       "  </tbody>\n",
       "</table>\n",
       "</div>"
      ],
      "text/plain": [
       "             mean_nb_url nb_distinct_merchandise elapsed_time_std  \\\n",
       "counts              6614                    6614             6614   \n",
       "uniques             2146                       2             5036   \n",
       "missing                0                       0                0   \n",
       "missing_perc          0%                      0%               0%   \n",
       "types            numeric                    bool          numeric   \n",
       "\n",
       "             elapsed_time_max time_std nb_distinct_url time_range ubiquity  \\\n",
       "counts                   6614     6614            6614       6614     6614   \n",
       "uniques                  4134     5548             827       5314      304   \n",
       "missing                     0        0               0          0        0   \n",
       "missing_perc               0%       0%              0%         0%       0%   \n",
       "types                 numeric  numeric         numeric    numeric  numeric   \n",
       "\n",
       "             mean_nb_bid_id nb_distinct_auction nb_distinct_ip  nb_bids  \\\n",
       "counts                 6614                6614           6614     6614   \n",
       "uniques                2598                 519           1169     1388   \n",
       "missing                   0                   0              0        0   \n",
       "missing_perc             0%                  0%             0%       0%   \n",
       "types               numeric             numeric        numeric  numeric   \n",
       "\n",
       "             elapsed_time_min mean_nb_ip mean_nb_merchandise mean_nb_country  \\\n",
       "counts                   6614       6614                6614            6614   \n",
       "uniques                  3929       2393                   2            1379   \n",
       "missing                     0          0                   0               0   \n",
       "missing_perc               0%         0%                  0%              0%   \n",
       "types                 numeric    numeric                bool         numeric   \n",
       "\n",
       "             nb_distinct_device  \n",
       "counts                     6614  \n",
       "uniques                     605  \n",
       "missing                       0  \n",
       "missing_perc                 0%  \n",
       "types                   numeric  "
      ]
     },
     "execution_count": 4,
     "metadata": {},
     "output_type": "execute_result"
    }
   ],
   "source": [
    "stats = get_stats(bids)\n",
    "DataFrameSummary(stats).columns_stats"
   ]
  },
  {
   "cell_type": "code",
   "execution_count": 5,
   "metadata": {
    "collapsed": false
   },
   "outputs": [
    {
     "data": {
      "text/html": [
       "<div>\n",
       "<table border=\"1\" class=\"dataframe\">\n",
       "  <thead>\n",
       "    <tr style=\"text-align: right;\">\n",
       "      <th></th>\n",
       "      <th>0</th>\n",
       "    </tr>\n",
       "    <tr>\n",
       "      <th>outcome</th>\n",
       "      <th></th>\n",
       "    </tr>\n",
       "  </thead>\n",
       "  <tbody>\n",
       "    <tr>\n",
       "      <th>0.0</th>\n",
       "      <td>1881</td>\n",
       "    </tr>\n",
       "    <tr>\n",
       "      <th>1.0</th>\n",
       "      <td>103</td>\n",
       "    </tr>\n",
       "  </tbody>\n",
       "</table>\n",
       "</div>"
      ],
      "text/plain": [
       "            0\n",
       "outcome      \n",
       "0.0      1881\n",
       "1.0       103"
      ]
     },
     "execution_count": 5,
     "metadata": {},
     "output_type": "execute_result"
    }
   ],
   "source": [
    "# Add column outcome\n",
    "features, target = get_feature_target(stats, bidders)\n",
    "pd.DataFrame(pd.DataFrame(target).groupby('outcome').size())"
   ]
  },
  {
   "cell_type": "markdown",
   "metadata": {},
   "source": [
    "# Predictions"
   ]
  },
  {
   "cell_type": "code",
   "execution_count": 6,
   "metadata": {
    "collapsed": false
   },
   "outputs": [],
   "source": [
    "clf_rf = get_regressor('random_forest')\n",
    "p_rf = get_predictions(clf_rf, features, target)\n",
    "fpr_rf, tpr_rf, t_rf, ps_rf, auc_rf = get_metrics(target, p_rf)\n",
    "\n",
    "clf_gbr = get_regressor('gradient_boosting')\n",
    "p_gbr = get_predictions(clf_gbr, features, target)\n",
    "fpr_gbr, tpr_gbr, t_gbr, ps_gbr, auc_gbr = get_metrics(target, p_gbr)"
   ]
  },
  {
   "cell_type": "code",
   "execution_count": 7,
   "metadata": {
    "collapsed": false
   },
   "outputs": [
    {
     "data": {
      "image/png": "[encoded data removed]",
      "text/plain": [
       "<matplotlib.figure.Figure at 0x7f9b32390790>"
      ]
     },
     "metadata": {},
     "output_type": "display_data"
    }
   ],
   "source": [
    "plt.title('Receiver Operating Characteristic')\n",
    "plt.plot(fpr_rf, tpr_rf, 'b',\n",
    "label='RF: AUC=%0.2f / PS=%0.2f'% (auc_rf,  ps_rf))\n",
    "plt.plot(fpr_gbr, tpr_gbr, 'g',\n",
    "label='GBR: AUC=%0.2f / PS=%0.2f'% (auc_gbr,  ps_gbr))\n",
    "plt.legend(loc='lower right')\n",
    "plt.plot([0,1],[0,1],'k--')\n",
    "plt.xlim([0,1])\n",
    "plt.ylim([0,1])\n",
    "plt.ylabel('True Positive Rate')\n",
    "plt.xlabel('False Positive Rate')\n",
    "plt.show()"
   ]
  },
  {
   "cell_type": "code",
   "execution_count": 8,
   "metadata": {
    "collapsed": false
   },
   "outputs": [
    {
     "data": {
      "text/plain": [
       "array([  1.97000000e+00,   9.70000000e-01,   7.90000000e-01,\n",
       "         7.80000000e-01,   7.10000000e-01,   7.00000000e-01,\n",
       "         6.90000000e-01,   6.60000000e-01,   6.50000000e-01,\n",
       "         6.40000000e-01,   6.30000000e-01,   6.00000000e-01,\n",
       "         5.90000000e-01,   5.80000000e-01,   5.70000000e-01,\n",
       "         5.60000000e-01,   5.50000000e-01,   5.10000000e-01,\n",
       "         5.00000000e-01,   4.90000000e-01,   4.80000000e-01,\n",
       "         4.60000000e-01,   4.50000000e-01,   4.40000000e-01,\n",
       "         4.30000000e-01,   4.20000000e-01,   4.10000000e-01,\n",
       "         4.00000000e-01,   3.90000000e-01,   3.80000000e-01,\n",
       "         3.70000000e-01,   3.60000000e-01,   3.50000000e-01,\n",
       "         3.40000000e-01,   3.30000000e-01,   3.20000000e-01,\n",
       "         3.10000000e-01,   3.00000000e-01,   2.90000000e-01,\n",
       "         2.80000000e-01,   2.60000000e-01,   2.50000000e-01,\n",
       "         2.40000000e-01,   2.30000000e-01,   2.20000000e-01,\n",
       "         2.00000000e-01,   1.90000000e-01,   1.80000000e-01,\n",
       "         1.70000000e-01,   1.60000000e-01,   1.50000000e-01,\n",
       "         1.40000000e-01,   1.30000000e-01,   1.20000000e-01,\n",
       "         1.10000000e-01,   1.00000000e-01,   9.00000000e-02,\n",
       "         8.00000000e-02,   7.00000000e-02,   6.00000000e-02,\n",
       "         5.46839266e-02,   5.00000000e-02,   4.00000000e-02,\n",
       "         3.00000000e-02,   2.00000000e-02,   1.74060250e-02,\n",
       "         1.73272647e-02,   1.72984364e-02,   1.72970060e-02,\n",
       "         1.72670755e-02,   1.72534987e-02,   1.72530919e-02,\n",
       "         1.72525611e-02,   1.72479364e-02,   1.72303771e-02,\n",
       "         1.72183824e-02,   1.72111814e-02,   1.71654926e-02,\n",
       "         1.71554496e-02,   1.71415081e-02,   1.71357043e-02,\n",
       "         1.71292333e-02,   1.70948140e-02,   1.70233030e-02,\n",
       "         1.69730134e-02,   1.69432619e-02,   1.69012874e-02,\n",
       "         1.68466686e-02,   1.68284436e-02,   1.67996875e-02,\n",
       "         1.67844685e-02,   1.67840350e-02,   1.67383508e-02,\n",
       "         1.67138404e-02,   1.66991313e-02,   1.40225514e-02,\n",
       "         1.38637237e-02,   1.36308652e-02,   1.35546035e-02,\n",
       "         1.33595753e-02,   1.00000000e-02,   1.32890365e-04,\n",
       "         0.00000000e+00])"
      ]
     },
     "execution_count": 8,
     "metadata": {},
     "output_type": "execute_result"
    }
   ],
   "source": [
    "t_rf"
   ]
  },
  {
   "cell_type": "code",
   "execution_count": 27,
   "metadata": {
    "collapsed": false
   },
   "outputs": [
    {
     "data": {
      "image/png": "[encoded data removed]",
      "text/plain": [
       "<matplotlib.figure.Figure at 0x7f9b31ad0790>"
      ]
     },
     "metadata": {},
     "output_type": "display_data"
    }
   ],
   "source": [
    "import sklearn.metrics as metrics\n",
    "precision, recall, _ = metrics.precision_recall_curve(target, p_rf)\n",
    "average_precision = metrics.average_precision_score(target, p_rf)\n",
    "\n",
    "# Plot Precision-Recall curve\n",
    "plt.clf()\n",
    "plt.plot(recall, precision, lw=2, color='navy',\n",
    "         label='Precision-Recall curve')\n",
    "plt.xlabel('Recall')\n",
    "plt.ylabel('Precision')\n",
    "plt.ylim([0.0, 1.05])\n",
    "plt.xlim([0.0, 1.0])\n",
    "plt.title('Precision-Recall example: AUC={0:0.2f}'.format(average_precision))\n",
    "plt.legend(loc=\"lower left\")\n",
    "plt.show()"
   ]
  },
  {
   "cell_type": "code",
   "execution_count": 9,
   "metadata": {
    "collapsed": false
   },
   "outputs": [
    {
     "name": "stdout",
     "output_type": "stream",
     "text": [
      "          0         1\n",
      "0  0.770335  0.229665\n",
      "1  0.106796  0.893204\n"
     ]
    }
   ],
   "source": [
    "print get_confusion_matrix(target, p_rf, 0.02)"
   ]
  },
  {
   "cell_type": "code",
   "execution_count": 10,
   "metadata": {
    "collapsed": false
   },
   "outputs": [
    {
     "data": {
      "text/html": [
       "<div>\n",
       "<table border=\"1\" class=\"dataframe\">\n",
       "  <thead>\n",
       "    <tr style=\"text-align: right;\">\n",
       "      <th></th>\n",
       "      <th>0</th>\n",
       "      <th>1</th>\n",
       "    </tr>\n",
       "  </thead>\n",
       "  <tbody>\n",
       "    <tr>\n",
       "      <th>8</th>\n",
       "      <td>mean_nb_bid_id</td>\n",
       "      <td>0.209351</td>\n",
       "    </tr>\n",
       "    <tr>\n",
       "      <th>4</th>\n",
       "      <td>time_std</td>\n",
       "      <td>0.086623</td>\n",
       "    </tr>\n",
       "    <tr>\n",
       "      <th>13</th>\n",
       "      <td>mean_nb_ip</td>\n",
       "      <td>0.084642</td>\n",
       "    </tr>\n",
       "    <tr>\n",
       "      <th>6</th>\n",
       "      <td>time_range</td>\n",
       "      <td>0.082040</td>\n",
       "    </tr>\n",
       "    <tr>\n",
       "      <th>0</th>\n",
       "      <td>mean_nb_url</td>\n",
       "      <td>0.077031</td>\n",
       "    </tr>\n",
       "    <tr>\n",
       "      <th>11</th>\n",
       "      <td>nb_bids</td>\n",
       "      <td>0.060579</td>\n",
       "    </tr>\n",
       "    <tr>\n",
       "      <th>3</th>\n",
       "      <td>elapsed_time_max</td>\n",
       "      <td>0.058324</td>\n",
       "    </tr>\n",
       "    <tr>\n",
       "      <th>12</th>\n",
       "      <td>elapsed_time_min</td>\n",
       "      <td>0.054958</td>\n",
       "    </tr>\n",
       "    <tr>\n",
       "      <th>9</th>\n",
       "      <td>nb_distinct_auction</td>\n",
       "      <td>0.052794</td>\n",
       "    </tr>\n",
       "    <tr>\n",
       "      <th>16</th>\n",
       "      <td>nb_distinct_device</td>\n",
       "      <td>0.045455</td>\n",
       "    </tr>\n",
       "    <tr>\n",
       "      <th>15</th>\n",
       "      <td>mean_nb_country</td>\n",
       "      <td>0.042910</td>\n",
       "    </tr>\n",
       "    <tr>\n",
       "      <th>2</th>\n",
       "      <td>elapsed_time_std</td>\n",
       "      <td>0.042382</td>\n",
       "    </tr>\n",
       "    <tr>\n",
       "      <th>5</th>\n",
       "      <td>nb_distinct_url</td>\n",
       "      <td>0.036626</td>\n",
       "    </tr>\n",
       "    <tr>\n",
       "      <th>7</th>\n",
       "      <td>ubiquity</td>\n",
       "      <td>0.033532</td>\n",
       "    </tr>\n",
       "    <tr>\n",
       "      <th>10</th>\n",
       "      <td>nb_distinct_ip</td>\n",
       "      <td>0.032751</td>\n",
       "    </tr>\n",
       "    <tr>\n",
       "      <th>1</th>\n",
       "      <td>nb_distinct_merchandise</td>\n",
       "      <td>0.000000</td>\n",
       "    </tr>\n",
       "    <tr>\n",
       "      <th>14</th>\n",
       "      <td>mean_nb_merchandise</td>\n",
       "      <td>0.000000</td>\n",
       "    </tr>\n",
       "  </tbody>\n",
       "</table>\n",
       "</div>"
      ],
      "text/plain": [
       "                          0         1\n",
       "8            mean_nb_bid_id  0.209351\n",
       "4                  time_std  0.086623\n",
       "13               mean_nb_ip  0.084642\n",
       "6                time_range  0.082040\n",
       "0               mean_nb_url  0.077031\n",
       "11                  nb_bids  0.060579\n",
       "3          elapsed_time_max  0.058324\n",
       "12         elapsed_time_min  0.054958\n",
       "9       nb_distinct_auction  0.052794\n",
       "16       nb_distinct_device  0.045455\n",
       "15          mean_nb_country  0.042910\n",
       "2          elapsed_time_std  0.042382\n",
       "5           nb_distinct_url  0.036626\n",
       "7                  ubiquity  0.033532\n",
       "10           nb_distinct_ip  0.032751\n",
       "1   nb_distinct_merchandise  0.000000\n",
       "14      mean_nb_merchandise  0.000000"
      ]
     },
     "execution_count": 10,
     "metadata": {},
     "output_type": "execute_result"
    }
   ],
   "source": [
    "get_feature_importance(clf_rf, features, target)"
   ]
  },
  {
   "cell_type": "code",
   "execution_count": 11,
   "metadata": {
    "collapsed": false
   },
   "outputs": [
    {
     "data": {
      "text/html": [
       "<div>\n",
       "<table border=\"1\" class=\"dataframe\">\n",
       "  <thead>\n",
       "    <tr style=\"text-align: right;\">\n",
       "      <th></th>\n",
       "      <th>0</th>\n",
       "      <th>1</th>\n",
       "    </tr>\n",
       "  </thead>\n",
       "  <tbody>\n",
       "    <tr>\n",
       "      <th>8</th>\n",
       "      <td>mean_nb_bid_id</td>\n",
       "      <td>0.23</td>\n",
       "    </tr>\n",
       "    <tr>\n",
       "      <th>13</th>\n",
       "      <td>mean_nb_ip</td>\n",
       "      <td>0.17</td>\n",
       "    </tr>\n",
       "    <tr>\n",
       "      <th>7</th>\n",
       "      <td>ubiquity</td>\n",
       "      <td>0.14</td>\n",
       "    </tr>\n",
       "    <tr>\n",
       "      <th>16</th>\n",
       "      <td>nb_distinct_device</td>\n",
       "      <td>0.11</td>\n",
       "    </tr>\n",
       "    <tr>\n",
       "      <th>11</th>\n",
       "      <td>nb_bids</td>\n",
       "      <td>0.08</td>\n",
       "    </tr>\n",
       "    <tr>\n",
       "      <th>9</th>\n",
       "      <td>nb_distinct_auction</td>\n",
       "      <td>0.05</td>\n",
       "    </tr>\n",
       "    <tr>\n",
       "      <th>0</th>\n",
       "      <td>mean_nb_url</td>\n",
       "      <td>0.05</td>\n",
       "    </tr>\n",
       "    <tr>\n",
       "      <th>5</th>\n",
       "      <td>nb_distinct_url</td>\n",
       "      <td>0.04</td>\n",
       "    </tr>\n",
       "    <tr>\n",
       "      <th>10</th>\n",
       "      <td>nb_distinct_ip</td>\n",
       "      <td>0.04</td>\n",
       "    </tr>\n",
       "    <tr>\n",
       "      <th>6</th>\n",
       "      <td>time_range</td>\n",
       "      <td>0.03</td>\n",
       "    </tr>\n",
       "    <tr>\n",
       "      <th>4</th>\n",
       "      <td>time_std</td>\n",
       "      <td>0.02</td>\n",
       "    </tr>\n",
       "    <tr>\n",
       "      <th>15</th>\n",
       "      <td>mean_nb_country</td>\n",
       "      <td>0.02</td>\n",
       "    </tr>\n",
       "    <tr>\n",
       "      <th>3</th>\n",
       "      <td>elapsed_time_max</td>\n",
       "      <td>0.01</td>\n",
       "    </tr>\n",
       "    <tr>\n",
       "      <th>2</th>\n",
       "      <td>elapsed_time_std</td>\n",
       "      <td>0.01</td>\n",
       "    </tr>\n",
       "    <tr>\n",
       "      <th>1</th>\n",
       "      <td>nb_distinct_merchandise</td>\n",
       "      <td>0.00</td>\n",
       "    </tr>\n",
       "    <tr>\n",
       "      <th>12</th>\n",
       "      <td>elapsed_time_min</td>\n",
       "      <td>0.00</td>\n",
       "    </tr>\n",
       "    <tr>\n",
       "      <th>14</th>\n",
       "      <td>mean_nb_merchandise</td>\n",
       "      <td>0.00</td>\n",
       "    </tr>\n",
       "  </tbody>\n",
       "</table>\n",
       "</div>"
      ],
      "text/plain": [
       "                          0     1\n",
       "8            mean_nb_bid_id  0.23\n",
       "13               mean_nb_ip  0.17\n",
       "7                  ubiquity  0.14\n",
       "16       nb_distinct_device  0.11\n",
       "11                  nb_bids  0.08\n",
       "9       nb_distinct_auction  0.05\n",
       "0               mean_nb_url  0.05\n",
       "5           nb_distinct_url  0.04\n",
       "10           nb_distinct_ip  0.04\n",
       "6                time_range  0.03\n",
       "4                  time_std  0.02\n",
       "15          mean_nb_country  0.02\n",
       "3          elapsed_time_max  0.01\n",
       "2          elapsed_time_std  0.01\n",
       "1   nb_distinct_merchandise  0.00\n",
       "12         elapsed_time_min  0.00\n",
       "14      mean_nb_merchandise  0.00"
      ]
     },
     "execution_count": 11,
     "metadata": {},
     "output_type": "execute_result"
    }
   ],
   "source": [
    "get_feature_importance(clf_gbr, features, target)"
   ]
  },
  {
   "cell_type": "markdown",
   "metadata": {},
   "source": [
    "# Data balancing"
   ]
  },
  {
   "cell_type": "code",
   "execution_count": 12,
   "metadata": {
    "collapsed": false
   },
   "outputs": [],
   "source": [
    "from imblearn.over_sampling import SMOTE"
   ]
  },
  {
   "cell_type": "code",
   "execution_count": 13,
   "metadata": {
    "collapsed": false
   },
   "outputs": [],
   "source": [
    "sm = SMOTE(random_state=42, n_jobs=-1)\n",
    "f_smoted, t_smoted = sm.fit_sample(features, target)\n",
    "\n",
    "limit = len(features)\n",
    "\n",
    "p_rfs = get_predictions(clf_rf, f_smoted, t_smoted)[:limit]\n",
    "fpr_rfs, tpr_rfs, t_rfs, ps_rfs, auc_rfs = get_metrics(t_smoted[:limit], p_rfs)"
   ]
  },
  {
   "cell_type": "code",
   "execution_count": 14,
   "metadata": {
    "collapsed": false
   },
   "outputs": [
    {
     "data": {
      "image/png": "[encoded data removed]",
      "text/plain": [
       "<matplotlib.figure.Figure at 0x7f9b0552f150>"
      ]
     },
     "metadata": {},
     "output_type": "display_data"
    }
   ],
   "source": [
    "plt.title('Receiver Operating Characteristic')\n",
    "plt.plot(fpr_rf, tpr_rf, 'b',\n",
    "label='RF: AUC=%0.2f / PS=%0.2f'% (auc_rf,  ps_rf))\n",
    "plt.plot(fpr_gbr, tpr_gbr, 'g',\n",
    "label='GBR: AUC=%0.2f / PS=%0.2f'% (auc_gbr,  ps_gbr))\n",
    "plt.plot(fpr_rfs, tpr_rfs, 'r',\n",
    "label='RFS: AUC=%0.2f / PS=%0.2f'% (auc_rfs,  ps_rfs))\n",
    "plt.legend(loc='lower right')\n",
    "plt.plot([0,1],[0,1],'k--')\n",
    "plt.xlim([0,1])\n",
    "plt.ylim([0,1])\n",
    "plt.ylabel('True Positive Rate')\n",
    "plt.xlabel('False Positive Rate')\n",
    "plt.show()"
   ]
  },
  {
   "cell_type": "code",
   "execution_count": 15,
   "metadata": {
    "collapsed": false
   },
   "outputs": [
    {
     "data": {
      "text/plain": [
       "array([ 1.        ,  0.99      ,  0.97      ,  0.96      ,  0.95      ,\n",
       "        0.94      ,  0.93      ,  0.92      ,  0.91      ,  0.89      ,\n",
       "        0.88      ,  0.87      ,  0.86      ,  0.85      ,  0.84      ,\n",
       "        0.83      ,  0.82      ,  0.8       ,  0.79      ,  0.78      ,\n",
       "        0.77      ,  0.75      ,  0.74      ,  0.73      ,  0.71      ,\n",
       "        0.7       ,  0.69      ,  0.68      ,  0.67      ,  0.66      ,\n",
       "        0.64405462,  0.64      ,  0.62      ,  0.61      ,  0.6       ,\n",
       "        0.59      ,  0.58      ,  0.56      ,  0.55      ,  0.54      ,\n",
       "        0.53      ,  0.52      ,  0.5       ,  0.49      ,  0.47      ,\n",
       "        0.46      ,  0.45      ,  0.44      ,  0.43      ,  0.42      ,\n",
       "        0.4       ,  0.39      ,  0.38      ,  0.37      ,  0.36      ,\n",
       "        0.35      ,  0.34      ,  0.33      ,  0.32      ,  0.31      ,\n",
       "        0.3       ,  0.29      ,  0.28      ,  0.27      ,  0.26      ,\n",
       "        0.25      ,  0.24      ,  0.23      ,  0.22      ,  0.21      ,\n",
       "        0.20732798,  0.20698144,  0.20563023,  0.20553058,  0.20543932,\n",
       "        0.20472394,  0.20433717,  0.20430414,  0.20319482,  0.20248104,\n",
       "        0.20111726,  0.20082953,  0.20031189,  0.2002595 ,  0.20018386,\n",
       "        0.2       ,  0.19976672,  0.19964488,  0.19955594,  0.19657825,\n",
       "        0.19458945,  0.19      ,  0.1895773 ,  0.17      ,  0.16      ,\n",
       "        0.15191375,  0.15      ,  0.14      ,  0.13      ,  0.12      ,\n",
       "        0.11521825,  0.11      ,  0.1       ,  0.09869496,  0.09      ,\n",
       "        0.08017437,  0.08      ,  0.07435728,  0.07      ,  0.06      ,\n",
       "        0.05      ,  0.04      ,  0.03189911,  0.03      ,  0.02203704,\n",
       "        0.02      ,  0.0137071 ,  0.01      ,  0.        ])"
      ]
     },
     "execution_count": 15,
     "metadata": {},
     "output_type": "execute_result"
    }
   ],
   "source": [
    "t_rfs"
   ]
  },
  {
   "cell_type": "code",
   "execution_count": 16,
   "metadata": {
    "collapsed": false
   },
   "outputs": [
    {
     "data": {
      "text/plain": [
       "119"
      ]
     },
     "execution_count": 16,
     "metadata": {},
     "output_type": "execute_result"
    }
   ],
   "source": [
    "len(t_rfs)"
   ]
  },
  {
   "cell_type": "code",
   "execution_count": 17,
   "metadata": {
    "collapsed": false
   },
   "outputs": [
    {
     "data": {
      "text/html": [
       "<div>\n",
       "<table border=\"1\" class=\"dataframe\">\n",
       "  <thead>\n",
       "    <tr style=\"text-align: right;\">\n",
       "      <th></th>\n",
       "      <th>0</th>\n",
       "      <th>1</th>\n",
       "    </tr>\n",
       "  </thead>\n",
       "  <tbody>\n",
       "    <tr>\n",
       "      <th>0</th>\n",
       "      <td>0.908559</td>\n",
       "      <td>0.091441</td>\n",
       "    </tr>\n",
       "    <tr>\n",
       "      <th>1</th>\n",
       "      <td>0.077670</td>\n",
       "      <td>0.922330</td>\n",
       "    </tr>\n",
       "  </tbody>\n",
       "</table>\n",
       "</div>"
      ],
      "text/plain": [
       "          0         1\n",
       "0  0.908559  0.091441\n",
       "1  0.077670  0.922330"
      ]
     },
     "execution_count": 17,
     "metadata": {},
     "output_type": "execute_result"
    }
   ],
   "source": [
    "get_confusion_matrix(t_smoted[:limit], p_rfs, 0.3)"
   ]
  },
  {
   "cell_type": "markdown",
   "metadata": {},
   "source": [
    "# Submission file creation"
   ]
  },
  {
   "cell_type": "code",
   "execution_count": 28,
   "metadata": {
    "collapsed": false
   },
   "outputs": [
    {
     "data": {
      "text/html": [
       "<div>\n",
       "<table border=\"1\" class=\"dataframe\">\n",
       "  <thead>\n",
       "    <tr style=\"text-align: right;\">\n",
       "      <th></th>\n",
       "      <th>mean_nb_url</th>\n",
       "      <th>nb_distinct_merchandise</th>\n",
       "      <th>elapsed_time_std</th>\n",
       "      <th>elapsed_time_max</th>\n",
       "      <th>time_std</th>\n",
       "      <th>nb_distinct_url</th>\n",
       "      <th>time_range</th>\n",
       "      <th>ubiquity</th>\n",
       "      <th>mean_nb_bid_id</th>\n",
       "      <th>nb_distinct_auction</th>\n",
       "      <th>nb_distinct_ip</th>\n",
       "      <th>nb_bids</th>\n",
       "      <th>elapsed_time_min</th>\n",
       "      <th>mean_nb_ip</th>\n",
       "      <th>mean_nb_merchandise</th>\n",
       "      <th>mean_nb_country</th>\n",
       "      <th>nb_distinct_device</th>\n",
       "    </tr>\n",
       "  </thead>\n",
       "  <tbody>\n",
       "    <tr>\n",
       "      <th>counts</th>\n",
       "      <td>4630</td>\n",
       "      <td>4630</td>\n",
       "      <td>4630</td>\n",
       "      <td>4630</td>\n",
       "      <td>4630</td>\n",
       "      <td>4630</td>\n",
       "      <td>4630</td>\n",
       "      <td>4630</td>\n",
       "      <td>4630</td>\n",
       "      <td>4630</td>\n",
       "      <td>4630</td>\n",
       "      <td>4630</td>\n",
       "      <td>4630</td>\n",
       "      <td>4630</td>\n",
       "      <td>4630</td>\n",
       "      <td>4630</td>\n",
       "      <td>4630</td>\n",
       "    </tr>\n",
       "    <tr>\n",
       "      <th>uniques</th>\n",
       "      <td>1572</td>\n",
       "      <td>1</td>\n",
       "      <td>3500</td>\n",
       "      <td>3001</td>\n",
       "      <td>3871</td>\n",
       "      <td>635</td>\n",
       "      <td>3750</td>\n",
       "      <td>233</td>\n",
       "      <td>1898</td>\n",
       "      <td>440</td>\n",
       "      <td>915</td>\n",
       "      <td>1081</td>\n",
       "      <td>2883</td>\n",
       "      <td>1750</td>\n",
       "      <td>1</td>\n",
       "      <td>1007</td>\n",
       "      <td>516</td>\n",
       "    </tr>\n",
       "    <tr>\n",
       "      <th>missing</th>\n",
       "      <td>0</td>\n",
       "      <td>0</td>\n",
       "      <td>0</td>\n",
       "      <td>0</td>\n",
       "      <td>0</td>\n",
       "      <td>0</td>\n",
       "      <td>0</td>\n",
       "      <td>0</td>\n",
       "      <td>0</td>\n",
       "      <td>0</td>\n",
       "      <td>0</td>\n",
       "      <td>0</td>\n",
       "      <td>0</td>\n",
       "      <td>0</td>\n",
       "      <td>0</td>\n",
       "      <td>0</td>\n",
       "      <td>0</td>\n",
       "    </tr>\n",
       "    <tr>\n",
       "      <th>missing_perc</th>\n",
       "      <td>0%</td>\n",
       "      <td>0%</td>\n",
       "      <td>0%</td>\n",
       "      <td>0%</td>\n",
       "      <td>0%</td>\n",
       "      <td>0%</td>\n",
       "      <td>0%</td>\n",
       "      <td>0%</td>\n",
       "      <td>0%</td>\n",
       "      <td>0%</td>\n",
       "      <td>0%</td>\n",
       "      <td>0%</td>\n",
       "      <td>0%</td>\n",
       "      <td>0%</td>\n",
       "      <td>0%</td>\n",
       "      <td>0%</td>\n",
       "      <td>0%</td>\n",
       "    </tr>\n",
       "    <tr>\n",
       "      <th>types</th>\n",
       "      <td>numeric</td>\n",
       "      <td>constant</td>\n",
       "      <td>numeric</td>\n",
       "      <td>numeric</td>\n",
       "      <td>numeric</td>\n",
       "      <td>numeric</td>\n",
       "      <td>numeric</td>\n",
       "      <td>numeric</td>\n",
       "      <td>numeric</td>\n",
       "      <td>numeric</td>\n",
       "      <td>numeric</td>\n",
       "      <td>numeric</td>\n",
       "      <td>numeric</td>\n",
       "      <td>numeric</td>\n",
       "      <td>constant</td>\n",
       "      <td>numeric</td>\n",
       "      <td>numeric</td>\n",
       "    </tr>\n",
       "  </tbody>\n",
       "</table>\n",
       "</div>"
      ],
      "text/plain": [
       "             mean_nb_url nb_distinct_merchandise elapsed_time_std  \\\n",
       "counts              4630                    4630             4630   \n",
       "uniques             1572                       1             3500   \n",
       "missing                0                       0                0   \n",
       "missing_perc          0%                      0%               0%   \n",
       "types            numeric                constant          numeric   \n",
       "\n",
       "             elapsed_time_max time_std nb_distinct_url time_range ubiquity  \\\n",
       "counts                   4630     4630            4630       4630     4630   \n",
       "uniques                  3001     3871             635       3750      233   \n",
       "missing                     0        0               0          0        0   \n",
       "missing_perc               0%       0%              0%         0%       0%   \n",
       "types                 numeric  numeric         numeric    numeric  numeric   \n",
       "\n",
       "             mean_nb_bid_id nb_distinct_auction nb_distinct_ip  nb_bids  \\\n",
       "counts                 4630                4630           4630     4630   \n",
       "uniques                1898                 440            915     1081   \n",
       "missing                   0                   0              0        0   \n",
       "missing_perc             0%                  0%             0%       0%   \n",
       "types               numeric             numeric        numeric  numeric   \n",
       "\n",
       "             elapsed_time_min mean_nb_ip mean_nb_merchandise mean_nb_country  \\\n",
       "counts                   4630       4630                4630            4630   \n",
       "uniques                  2883       1750                   1            1007   \n",
       "missing                     0          0                   0               0   \n",
       "missing_perc               0%         0%                  0%              0%   \n",
       "types                 numeric    numeric            constant         numeric   \n",
       "\n",
       "             nb_distinct_device  \n",
       "counts                     4630  \n",
       "uniques                     516  \n",
       "missing                       0  \n",
       "missing_perc                 0%  \n",
       "types                   numeric  "
      ]
     },
     "execution_count": 28,
     "metadata": {},
     "output_type": "execute_result"
    }
   ],
   "source": [
    "testset = pd.read_csv(\"data/test.csv.zip\", header=0)\n",
    "features_test, _ = get_feature_target(stats, testset)\n",
    "DataFrameSummary(features_test).columns_stats"
   ]
  },
  {
   "cell_type": "code",
   "execution_count": 19,
   "metadata": {
    "collapsed": false
   },
   "outputs": [],
   "source": [
    "completion = pd.DataFrame(list(set(testset.bidder_id).difference(set(features_test.index))), columns = ['bidder_id'])\n",
    "completion['prediction'] = 0.0"
   ]
  },
  {
   "cell_type": "code",
   "execution_count": 20,
   "metadata": {
    "collapsed": false
   },
   "outputs": [],
   "source": [
    "clf = clf_rf.fit(features, target)\n",
    "predictions_test = (clf.predict(features_test) >= 0.04) + 0.0\n",
    "\n",
    "results = pd.DataFrame([features_test.index, predictions_test]).T\n",
    "results.columns = ['bidder_id', 'prediction']\n",
    "results = pd.concat([results, completion])\n",
    "results.to_csv(\"data/submission.csv\", index=False, header=True)"
   ]
  }
 ],
 "metadata": {
  "kernelspec": {
   "display_name": "Python 2",
   "language": "python",
   "name": "python2"
  },
  "language_info": {
   "codemirror_mode": {
    "name": "ipython",
    "version": 2
   },
   "file_extension": ".py",
   "mimetype": "text/x-python",
   "name": "python",
   "nbconvert_exporter": "python",
   "pygments_lexer": "ipython2",
   "version": "2.7.12"
  }
 },
 "nbformat": 4,
 "nbformat_minor": 1
}
